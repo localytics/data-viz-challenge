{
 "metadata": {
  "name": "",
  "signature": "sha256:ae3d1cfdeccae4dd8a978db7b760550f71e3914abc4c477bce0bb4bed7e741bf"
 },
 "nbformat": 3,
 "nbformat_minor": 0,
 "worksheets": [
  {
   "cells": [
    {
     "cell_type": "code",
     "collapsed": false,
     "input": [
      "%matplotlib inline\n",
      "import matplotlib.pyplot as plt\n",
      "from mpl_toolkits.basemap import Basemap\n",
      "import pandas as pd\n",
      "import ujson as json\n",
      "\n",
      "dl_data = None\n",
      "\n",
      "with open(\"data.json\", \"rb\") as in_file:\n",
      "    json_data = json.load(in_file)\n",
      "    dl_data = pd.io.json.json_normalize(json_data[\"data\"])\n",
      "   \n",
      "# round the longitude and latitude to 1 decimal point to group them better\n",
      "dl_data_rounded = dl_data.copy()\n",
      "dl_data_rounded[\"location.longitude\"] = dl_data_rounded[\"location.longitude\"].apply(lambda x: round(x, 1)).values\n",
      "dl_data_rounded[\"location.latitude\"] = dl_data_rounded[\"location.latitude\"].apply(lambda x: round(x, 1)).values\n",
      "\n",
      "# subset to all \"View\" actions\n",
      "dl_data_views_rounded = dl_data_rounded[dl_data_rounded.event_name.apply(lambda x: x == \"View Project\")]\n",
      "\n",
      "# subset to all \"Fund\" actions for the Sports and Environment categories\n",
      "dl_data_bike_fund_rounded = dl_data_rounded[(dl_data_rounded.category.apply(lambda x: x in [\"Sports\", \"Environment\"])) &\n",
      "                                            (dl_data_rounded.event_name.apply(lambda x: x == \"Fund Project\"))]\n",
      "\n",
      "customer_size = dl_data_views_rounded.groupby([\"location.longitude\", \"location.latitude\"]).device.count()\n",
      "customer_size = customer_size.to_dict()\n",
      "\n",
      "customer_interest = (dl_data_bike_fund_rounded.groupby([\"location.longitude\", \"location.latitude\"]).device.count() /\n",
      "                     dl_data_views_rounded.groupby([\"location.longitude\", \"location.latitude\"]).device.count()).to_dict()\n",
      "\n",
      "fig = plt.figure(figsize=(16, 12))\n",
      "us_map = Basemap(llcrnrlon=-119, llcrnrlat=22, urcrnrlon=-64, urcrnrlat=49,\n",
      "                 projection=\"lcc\", lat_1=33, lat_2=45, lon_0=-95, resolution=\"h\")\n",
      "\n",
      "us_map.drawcoastlines()\n",
      "us_map.drawstates()\n",
      "us_map.drawcountries()\n",
      "\n",
      "for (longitude, latitude) in customer_size.keys():\n",
      "    x, y = us_map([longitude], [latitude])\n",
      "    \n",
      "    # The size of the marker corresponds to how many views the geolocation had.\n",
      "    # The opacity of the marker corresponds to the fraction of total views that\n",
      "    # resulted in funding for Sports or Environment categories.\n",
      "    us_map.plot(x, y, \".\", c=\"#1f77b4\",\n",
      "                alpha=min(customer_interest[(longitude, latitude)] / 0.5, 1.0),\n",
      "                markersize=min(customer_size[(longitude, latitude)], 200.0) / 50.0 * 10.0)\n",
      "    \n",
      "plt.savefig(\"us-map-bike-funding.png\", bbox_inches=\"tight\")\n",
      ";"
     ],
     "language": "python",
     "metadata": {},
     "outputs": []
    }
   ],
   "metadata": {}
  }
 ]
}